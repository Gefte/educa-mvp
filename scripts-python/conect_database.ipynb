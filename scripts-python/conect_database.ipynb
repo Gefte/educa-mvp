{
 "cells": [
  {
   "cell_type": "code",
   "execution_count": 1,
   "metadata": {},
   "outputs": [],
   "source": [
    "import sqlite3\n",
    "import pandas as pd"
   ]
  },
  {
   "cell_type": "code",
   "execution_count": 2,
   "metadata": {},
   "outputs": [
    {
     "name": "stdout",
     "output_type": "stream",
     "text": [
      "Empty DataFrame\n",
      "Columns: [id, nome, url]\n",
      "Index: []\n"
     ]
    }
   ],
   "source": [
    "\n",
    "conn = sqlite3.connect('/home/geftealmeida/my_documents/educa-mvp/front-end/db.sqlite3')  # Substitua pelo caminho do seu banco de dados\n",
    "\n",
    "query = \"SELECT * FROM trilhaestudo_materia\"\n",
    "\n",
    "df = pd.read_sql_query(query, conn)\n",
    "conn.close()\n",
    "print(df)"
   ]
  },
  {
   "cell_type": "code",
   "execution_count": 4,
   "metadata": {},
   "outputs": [
    {
     "name": "stdout",
     "output_type": "stream",
     "text": [
      "         nome                                    url\n",
      "0  Matematica  assets/imagens/materia/Matematica.png\n",
      "1     Quimica     assets/imagens/materia/Quimica.png\n",
      "2   Portugues   assets/imagens/materia/Portugues.png\n",
      "3    Historia    assets/imagens/materia/Historia.png\n",
      "4   Filosofia   assets/imagens/materia/Filosofia.png\n",
      "5      Fisica      assets/imagens/materia/Fisica.png\n"
     ]
    }
   ],
   "source": [
    "import os\n",
    "import pandas as pd\n",
    "import sqlite3\n",
    "\n",
    "# Diretório onde as imagens estão localizadas\n",
    "imagem_dir = '/home/geftealmeida/my_documents/educa-mvp/front-end/setup/static/assets/imagens/materia'\n",
    "\n",
    "# Lista para armazenar os nomes das imagens\n",
    "imagens = []\n",
    "\n",
    "# Percorrer o diretório e obter os nomes das imagens\n",
    "for filename in os.listdir(imagem_dir):\n",
    "    if filename.endswith(\".png\"):\n",
    "        imagens.append(filename.split('.png')[0])\n",
    "\n",
    "# Criar URLs baseadas nos nomes das imagens\n",
    "urls = [f'assets/imagens/materia/{imagem}.png' for imagem in imagens]\n",
    "\n",
    "# Criar um DataFrame com os dados\n",
    "data = {'nome': imagens, 'url': urls}\n",
    "df = pd.DataFrame(data)\n",
    "\n",
    "# Imprimir o DataFrame\n",
    "print(df)\n",
    "\n",
    "# Conectar ao banco de dados SQLite\n",
    "conn = sqlite3.connect('/home/geftealmeida/my_documents/educa-mvp/front-end/db.sqlite3')  # Substitua pelo caminho do seu banco de dados\n",
    "\n",
    "# Inserir os dados do DataFrame na tabela usando a consulta SQL\n",
    "for index, row in df.iterrows():\n",
    "    query = f\"INSERT INTO trilhaestudo_materia (nome, url) VALUES ('{row['nome']}', '{row['url']}')\"\n",
    "    conn.execute(query)\n",
    "\n",
    "# Commit das alterações e fechar a conexão com o banco de dados\n",
    "conn.commit()\n",
    "conn.close()\n"
   ]
  },
  {
   "cell_type": "code",
   "execution_count": 3,
   "metadata": {},
   "outputs": [],
   "source": [
    "import sqlite3\n",
    "\n",
    "# Conectar ao banco de dados SQLite\n",
    "conn = sqlite3.connect('/home/geftealmeida/my_documents/educa-mvp/front-end/db.sqlite3')  # Substitua pelo caminho do seu banco de dados\n",
    "\n",
    "# Criar um cursor\n",
    "cursor = conn.cursor()\n",
    "\n",
    "# Executar a operação para apagar todos os registros da tabela\n",
    "query = \"DELETE FROM trilhaestudo_materia\"\n",
    "cursor.execute(query)\n",
    "\n",
    "# Commit das alterações e fechar a conexão com o banco de dados\n",
    "conn.commit()\n",
    "conn.close()"
   ]
  },
  {
   "cell_type": "code",
   "execution_count": null,
   "metadata": {},
   "outputs": [],
   "source": []
  }
 ],
 "metadata": {
  "kernelspec": {
   "display_name": ".venv",
   "language": "python",
   "name": "python3"
  },
  "language_info": {
   "codemirror_mode": {
    "name": "ipython",
    "version": 3
   },
   "file_extension": ".py",
   "mimetype": "text/x-python",
   "name": "python",
   "nbconvert_exporter": "python",
   "pygments_lexer": "ipython3",
   "version": "3.8.10"
  },
  "orig_nbformat": 4
 },
 "nbformat": 4,
 "nbformat_minor": 2
}
